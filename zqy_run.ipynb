{
 "cells": [
  {
   "cell_type": "code",
   "execution_count": 1,
   "metadata": {},
   "outputs": [],
   "source": [
    "# import json data to pandas\n",
    "import pandas as pd\n",
    "import json\n",
    "import os\n",
    "import numpy as np\n",
    "import asyncio\n",
    "import aiohttp"
   ]
  },
  {
   "cell_type": "markdown",
   "metadata": {},
   "source": [
    "# rerank"
   ]
  },
  {
   "cell_type": "code",
   "execution_count": 34,
   "metadata": {},
   "outputs": [
    {
     "data": {
      "text/html": [
       "<div>\n",
       "<style scoped>\n",
       "    .dataframe tbody tr th:only-of-type {\n",
       "        vertical-align: middle;\n",
       "    }\n",
       "\n",
       "    .dataframe tbody tr th {\n",
       "        vertical-align: top;\n",
       "    }\n",
       "\n",
       "    .dataframe thead th {\n",
       "        text-align: right;\n",
       "    }\n",
       "</style>\n",
       "<table border=\"1\" class=\"dataframe\">\n",
       "  <thead>\n",
       "    <tr style=\"text-align: right;\">\n",
       "      <th></th>\n",
       "      <th>question</th>\n",
       "      <th>answer</th>\n",
       "      <th>document_id</th>\n",
       "    </tr>\n",
       "  </thead>\n",
       "  <tbody>\n",
       "    <tr>\n",
       "      <th>0</th>\n",
       "      <td>when did the british first land in north america</td>\n",
       "      <td>NaN</td>\n",
       "      <td>[11484, 2724, 10057, 4117, 81, 9798, 570, 1013...</td>\n",
       "    </tr>\n",
       "    <tr>\n",
       "      <th>1</th>\n",
       "      <td>when did the 1st world war officially end</td>\n",
       "      <td>NaN</td>\n",
       "      <td>[6909, 7427, 10722, 11362, 7899, 1896, 646, 97...</td>\n",
       "    </tr>\n",
       "    <tr>\n",
       "      <th>2</th>\n",
       "      <td>who's the girl that plays the new wonder woman</td>\n",
       "      <td>NaN</td>\n",
       "      <td>[5970, 8669, 8552, 10380, 10786, 11164, 10484,...</td>\n",
       "    </tr>\n",
       "    <tr>\n",
       "      <th>3</th>\n",
       "      <td>who is the director of the cia today</td>\n",
       "      <td>NaN</td>\n",
       "      <td>[11721, 4733, 3595, 8855, 11334, 4857, 9619, 8...</td>\n",
       "    </tr>\n",
       "    <tr>\n",
       "      <th>4</th>\n",
       "      <td>who plays ben in the new fantastic four</td>\n",
       "      <td>NaN</td>\n",
       "      <td>[8635, 9192, 9792, 6860, 4805, 9889, 9625, 555...</td>\n",
       "    </tr>\n",
       "    <tr>\n",
       "      <th>...</th>\n",
       "      <td>...</td>\n",
       "      <td>...</td>\n",
       "      <td>...</td>\n",
       "    </tr>\n",
       "    <tr>\n",
       "      <th>995</th>\n",
       "      <td>who did morgan freeman play in driving miss daisy</td>\n",
       "      <td>NaN</td>\n",
       "      <td>[2987, 7099, 7797, 5287, 4261, 785, 5692, 7364...</td>\n",
       "    </tr>\n",
       "    <tr>\n",
       "      <th>996</th>\n",
       "      <td>who played mr kidd in diamonds are forever</td>\n",
       "      <td>NaN</td>\n",
       "      <td>[7690, 6834, 628, 10418, 10227, 2057, 3517, 16...</td>\n",
       "    </tr>\n",
       "    <tr>\n",
       "      <th>997</th>\n",
       "      <td>when does nathan find out about chuck and blair</td>\n",
       "      <td>NaN</td>\n",
       "      <td>[9847, 3759, 2452, 6304, 4191, 6249, 4622, 952...</td>\n",
       "    </tr>\n",
       "    <tr>\n",
       "      <th>998</th>\n",
       "      <td>when did the first push to start car come out</td>\n",
       "      <td>NaN</td>\n",
       "      <td>[2352, 271, 4740, 5964, 6329, 11276, 10476, 96...</td>\n",
       "    </tr>\n",
       "    <tr>\n",
       "      <th>999</th>\n",
       "      <td>risk for infection related to premature ruptur...</td>\n",
       "      <td>NaN</td>\n",
       "      <td>[7298, 8343, 6210, 5637, 5212, 3543, 8232, 964...</td>\n",
       "    </tr>\n",
       "  </tbody>\n",
       "</table>\n",
       "<p>1000 rows × 3 columns</p>\n",
       "</div>"
      ],
      "text/plain": [
       "                                              question  answer  \\\n",
       "0     when did the british first land in north america     NaN   \n",
       "1            when did the 1st world war officially end     NaN   \n",
       "2       who's the girl that plays the new wonder woman     NaN   \n",
       "3                 who is the director of the cia today     NaN   \n",
       "4              who plays ben in the new fantastic four     NaN   \n",
       "..                                                 ...     ...   \n",
       "995  who did morgan freeman play in driving miss daisy     NaN   \n",
       "996         who played mr kidd in diamonds are forever     NaN   \n",
       "997    when does nathan find out about chuck and blair     NaN   \n",
       "998      when did the first push to start car come out     NaN   \n",
       "999  risk for infection related to premature ruptur...     NaN   \n",
       "\n",
       "                                           document_id  \n",
       "0    [11484, 2724, 10057, 4117, 81, 9798, 570, 1013...  \n",
       "1    [6909, 7427, 10722, 11362, 7899, 1896, 646, 97...  \n",
       "2    [5970, 8669, 8552, 10380, 10786, 11164, 10484,...  \n",
       "3    [11721, 4733, 3595, 8855, 11334, 4857, 9619, 8...  \n",
       "4    [8635, 9192, 9792, 6860, 4805, 9889, 9625, 555...  \n",
       "..                                                 ...  \n",
       "995  [2987, 7099, 7797, 5287, 4261, 785, 5692, 7364...  \n",
       "996  [7690, 6834, 628, 10418, 10227, 2057, 3517, 16...  \n",
       "997  [9847, 3759, 2452, 6304, 4191, 6249, 4622, 952...  \n",
       "998  [2352, 271, 4740, 5964, 6329, 11276, 10476, 96...  \n",
       "999  [7298, 8343, 6210, 5637, 5212, 3543, 8232, 964...  \n",
       "\n",
       "[1000 rows x 3 columns]"
      ]
     },
     "execution_count": 34,
     "metadata": {},
     "output_type": "execute_result"
    }
   ],
   "source": [
    "valid_rank_data = pd.read_json('data_and_code/zqy_data/faiss_results.jsonl', lines=True)\n",
    "valid_rank_data"
   ]
  },
  {
   "cell_type": "code",
   "execution_count": 35,
   "metadata": {},
   "outputs": [
    {
     "data": {
      "text/html": [
       "<div>\n",
       "<style scoped>\n",
       "    .dataframe tbody tr th:only-of-type {\n",
       "        vertical-align: middle;\n",
       "    }\n",
       "\n",
       "    .dataframe tbody tr th {\n",
       "        vertical-align: top;\n",
       "    }\n",
       "\n",
       "    .dataframe thead th {\n",
       "        text-align: right;\n",
       "    }\n",
       "</style>\n",
       "<table border=\"1\" class=\"dataframe\">\n",
       "  <thead>\n",
       "    <tr style=\"text-align: right;\">\n",
       "      <th></th>\n",
       "      <th>doc_id</th>\n",
       "      <th>text</th>\n",
       "    </tr>\n",
       "  </thead>\n",
       "  <tbody>\n",
       "    <tr>\n",
       "      <th>0</th>\n",
       "      <td>0</td>\n",
       "      <td>Email marketing - Wikipedia # Email marketing ...</td>\n",
       "    </tr>\n",
       "    <tr>\n",
       "      <th>1</th>\n",
       "      <td>1</td>\n",
       "      <td>The Mother ( How I Met Your Mother ) - wikiped...</td>\n",
       "    </tr>\n",
       "    <tr>\n",
       "      <th>2</th>\n",
       "      <td>2</td>\n",
       "      <td>Human fertilization - wikipedia # Human fertil...</td>\n",
       "    </tr>\n",
       "    <tr>\n",
       "      <th>3</th>\n",
       "      <td>3</td>\n",
       "      <td>List of National Football League career quarte...</td>\n",
       "    </tr>\n",
       "    <tr>\n",
       "      <th>4</th>\n",
       "      <td>4</td>\n",
       "      <td>Roanoke Colony - wikipedia # Roanoke Colony ``...</td>\n",
       "    </tr>\n",
       "    <tr>\n",
       "      <th>...</th>\n",
       "      <td>...</td>\n",
       "      <td>...</td>\n",
       "    </tr>\n",
       "    <tr>\n",
       "      <th>12133</th>\n",
       "      <td>12133</td>\n",
       "      <td>Jeepers Creepers ( 2001 film ) - wikipedia # J...</td>\n",
       "    </tr>\n",
       "    <tr>\n",
       "      <th>12134</th>\n",
       "      <td>12134</td>\n",
       "      <td>Death Wish ( 2018 film ) - wikipedia # Death W...</td>\n",
       "    </tr>\n",
       "    <tr>\n",
       "      <th>12135</th>\n",
       "      <td>12135</td>\n",
       "      <td>X-Men : Apocalypse - wikipedia # X-Men : Apoca...</td>\n",
       "    </tr>\n",
       "    <tr>\n",
       "      <th>12136</th>\n",
       "      <td>12136</td>\n",
       "      <td>Gulliver 's Travels - wikipedia # Gulliver 's ...</td>\n",
       "    </tr>\n",
       "    <tr>\n",
       "      <th>12137</th>\n",
       "      <td>12137</td>\n",
       "      <td>Julie , Do Ya Love Me - Wikipedia # Julie , Do...</td>\n",
       "    </tr>\n",
       "  </tbody>\n",
       "</table>\n",
       "<p>12138 rows × 2 columns</p>\n",
       "</div>"
      ],
      "text/plain": [
       "       doc_id                                               text\n",
       "0           0  Email marketing - Wikipedia # Email marketing ...\n",
       "1           1  The Mother ( How I Met Your Mother ) - wikiped...\n",
       "2           2  Human fertilization - wikipedia # Human fertil...\n",
       "3           3  List of National Football League career quarte...\n",
       "4           4  Roanoke Colony - wikipedia # Roanoke Colony ``...\n",
       "...       ...                                                ...\n",
       "12133   12133  Jeepers Creepers ( 2001 film ) - wikipedia # J...\n",
       "12134   12134  Death Wish ( 2018 film ) - wikipedia # Death W...\n",
       "12135   12135  X-Men : Apocalypse - wikipedia # X-Men : Apoca...\n",
       "12136   12136  Gulliver 's Travels - wikipedia # Gulliver 's ...\n",
       "12137   12137  Julie , Do Ya Love Me - Wikipedia # Julie , Do...\n",
       "\n",
       "[12138 rows x 2 columns]"
      ]
     },
     "execution_count": 35,
     "metadata": {},
     "output_type": "execute_result"
    }
   ],
   "source": [
    "document_data = pd.read_json('data_and_code/ytx_data/processed_markdown.jsonl', lines=True)\n",
    "document_plain = pd.read_json('data_and_code/ytx_data/processed_plain.jsonl', lines=True)\n",
    "document_data"
   ]
  },
  {
   "cell_type": "code",
   "execution_count": 36,
   "metadata": {},
   "outputs": [
    {
     "data": {
      "text/plain": [
       "(25123, 38117)"
      ]
     },
     "execution_count": 36,
     "metadata": {},
     "output_type": "execute_result"
    }
   ],
   "source": [
    "# get max number of tokens in one document\n",
    "max(document_data['text'].apply(lambda x: len(x.split(' ')))), \\\n",
    "    max(document_plain['text'].apply(lambda x: len(x.split(' '))))"
   ]
  },
  {
   "cell_type": "code",
   "execution_count": 37,
   "metadata": {},
   "outputs": [],
   "source": [
    "def idx2content(idx, document_data=document_data):\n",
    "    \"\"\"\n",
    "    get document content by index\n",
    "    \"\"\"\n",
    "    return document_data['text'][idx]"
   ]
  },
  {
   "cell_type": "code",
   "execution_count": 38,
   "metadata": {},
   "outputs": [],
   "source": [
    "# reset column 'answer' of valid_rank_data to None\n",
    "valid_rank_data['answer'] = None"
   ]
  },
  {
   "cell_type": "code",
   "execution_count": 39,
   "metadata": {},
   "outputs": [],
   "source": [
    "# rerank\n",
    "from QA_System.backbone.rerank import ReRanker\n",
    "\n",
    "\n",
    "def rerank_func(valid_rank_data, reranker: ReRanker):\n",
    "    input_top_n = 50\n",
    "    docid_origin_list = valid_rank_data['document_id'].apply(lambda x: x[:input_top_n])\n",
    "    query_list = valid_rank_data['question']\n",
    "    doc_content_origin_list = docid_origin_list.apply(lambda x: [idx2content(int(i)) for i in x])\n",
    "    # transfer to list\n",
    "    doc_content_origin_list = doc_content_origin_list.tolist()\n",
    "    query_list = query_list.tolist()\n",
    "    docid_origin_list = docid_origin_list.tolist()\n",
    "    # combine query and document, format: [query, list of documents content]\n",
    "    query_document_list = []\n",
    "    for i in range(len(query_list)):\n",
    "        query_document_list.append(\n",
    "            [\n",
    "                query_list[i],\n",
    "                doc_content_origin_list[i]\n",
    "            ]\n",
    ")\n",
    "    # rerank\n",
    "    responses = reranker.async_send_requests_simple(\n",
    "        query_document_list, use_progress_bar=False, concurrency=5, top_n = 5, \n",
    "        model = 'Pro/BAAI/bge-reranker-v2-m3',\n",
    "    )\n",
    "    _, indices = reranker.extract_json(responses)\n",
    "    # indices is the relative index of the document in the original list\n",
    "    # transform to the original document id\n",
    "    # docid_origin_list = list[list[int]]\n",
    "    # indices = list[list[int]]\n",
    "    for i in range(len(indices)):\n",
    "        for j in range(len(indices[i])):\n",
    "            indices[i][j] = docid_origin_list[i][indices[i][j]]\n",
    "    return indices"
   ]
  },
  {
   "cell_type": "code",
   "execution_count": 40,
   "metadata": {},
   "outputs": [
    {
     "name": "stdout",
     "output_type": "stream",
     "text": [
      "Processing 0 to 30\n",
      "Processing 30 to 60\n",
      "Processing 60 to 90\n",
      "Processing 90 to 120\n",
      "Processing 120 to 150\n",
      "Processing 150 to 180\n",
      "Processing 180 to 210\n",
      "Processing 210 to 240\n",
      "Processing 240 to 270\n",
      "Processing 270 to 300\n",
      "Processing 300 to 330\n",
      "Processing 330 to 360\n",
      "Processing 360 to 390\n",
      "Processing 390 to 420\n",
      "Processing 420 to 450\n",
      "Processing 450 to 480\n",
      "Processing 480 to 510\n",
      "Processing 510 to 540\n",
      "Processing 540 to 570\n",
      "Processing 570 to 600\n",
      "Processing 600 to 630\n",
      "Processing 630 to 660\n",
      "Processing 660 to 690\n",
      "Processing 690 to 720\n",
      "Processing 720 to 750\n",
      "Processing 750 to 780\n",
      "Processing 780 to 810\n",
      "Processing 810 to 840\n",
      "Processing 840 to 870\n",
      "Processing 870 to 900\n",
      "Processing 900 to 930\n",
      "Processing 930 to 960\n",
      "Processing 960 to 990\n",
      "Processing 990 to 1020\n"
     ]
    }
   ],
   "source": [
    "import nest_asyncio\n",
    "import time\n",
    "nest_asyncio.apply()\n",
    "\n",
    "api_key = \"sk-tiqxioukbterlpaezfbeezpfkcpqbtaqtknvfjrrkscgtwmg\"\n",
    "reranker = ReRanker(api_token=api_key)\n",
    "all_indices = []\n",
    "# process 100 samples each time\n",
    "batch_size = 30\n",
    "for i in range(0, len(valid_rank_data), batch_size):\n",
    "    print(f\"Processing {i} to {i + batch_size}\")\n",
    "    indices = rerank_func(valid_rank_data[i:i + batch_size], reranker)\n",
    "    all_indices.extend(indices)\n",
    "    time.sleep(40)\n",
    "# indices = rerank_func(valid_rank_data, reranker)"
   ]
  },
  {
   "cell_type": "code",
   "execution_count": null,
   "metadata": {},
   "outputs": [],
   "source": [
    "# # reformat str to int in all_indices\n",
    "# all_indices = [[int(j) for j in i] for i in all_indices]\n",
    "# all_indices"
   ]
  },
  {
   "cell_type": "code",
   "execution_count": 43,
   "metadata": {},
   "outputs": [
    {
     "data": {
      "text/html": [
       "<div>\n",
       "<style scoped>\n",
       "    .dataframe tbody tr th:only-of-type {\n",
       "        vertical-align: middle;\n",
       "    }\n",
       "\n",
       "    .dataframe tbody tr th {\n",
       "        vertical-align: top;\n",
       "    }\n",
       "\n",
       "    .dataframe thead th {\n",
       "        text-align: right;\n",
       "    }\n",
       "</style>\n",
       "<table border=\"1\" class=\"dataframe\">\n",
       "  <thead>\n",
       "    <tr style=\"text-align: right;\">\n",
       "      <th></th>\n",
       "      <th>question</th>\n",
       "      <th>answer</th>\n",
       "      <th>document_id</th>\n",
       "    </tr>\n",
       "  </thead>\n",
       "  <tbody>\n",
       "    <tr>\n",
       "      <th>0</th>\n",
       "      <td>when did the british first land in north america</td>\n",
       "      <td>None</td>\n",
       "      <td>[11484, 2724, 12022, 570, 10133]</td>\n",
       "    </tr>\n",
       "    <tr>\n",
       "      <th>1</th>\n",
       "      <td>when did the 1st world war officially end</td>\n",
       "      <td>None</td>\n",
       "      <td>[10722, 9731, 7508, 646, 7880]</td>\n",
       "    </tr>\n",
       "    <tr>\n",
       "      <th>2</th>\n",
       "      <td>who's the girl that plays the new wonder woman</td>\n",
       "      <td>None</td>\n",
       "      <td>[7556, 10786, 5970, 10380, 8669]</td>\n",
       "    </tr>\n",
       "    <tr>\n",
       "      <th>3</th>\n",
       "      <td>who is the director of the cia today</td>\n",
       "      <td>None</td>\n",
       "      <td>[11721, 9619, 4715, 12126, 4733]</td>\n",
       "    </tr>\n",
       "    <tr>\n",
       "      <th>4</th>\n",
       "      <td>who plays ben in the new fantastic four</td>\n",
       "      <td>None</td>\n",
       "      <td>[9192, 8635, 5557, 10620, 9792]</td>\n",
       "    </tr>\n",
       "    <tr>\n",
       "      <th>...</th>\n",
       "      <td>...</td>\n",
       "      <td>...</td>\n",
       "      <td>...</td>\n",
       "    </tr>\n",
       "    <tr>\n",
       "      <th>995</th>\n",
       "      <td>who did morgan freeman play in driving miss daisy</td>\n",
       "      <td>None</td>\n",
       "      <td>[7099, 2987, 7797, 785, 7590]</td>\n",
       "    </tr>\n",
       "    <tr>\n",
       "      <th>996</th>\n",
       "      <td>who played mr kidd in diamonds are forever</td>\n",
       "      <td>None</td>\n",
       "      <td>[7690, 10227, 11126, 5356, 1051]</td>\n",
       "    </tr>\n",
       "    <tr>\n",
       "      <th>997</th>\n",
       "      <td>when does nathan find out about chuck and blair</td>\n",
       "      <td>None</td>\n",
       "      <td>[2452, 3759, 4191, 6249, 10832]</td>\n",
       "    </tr>\n",
       "    <tr>\n",
       "      <th>998</th>\n",
       "      <td>when did the first push to start car come out</td>\n",
       "      <td>None</td>\n",
       "      <td>[8331, 3525, 6907, 3617, 3279]</td>\n",
       "    </tr>\n",
       "    <tr>\n",
       "      <th>999</th>\n",
       "      <td>risk for infection related to premature ruptur...</td>\n",
       "      <td>None</td>\n",
       "      <td>[7298, 6210, 9987, 5212, 2801]</td>\n",
       "    </tr>\n",
       "  </tbody>\n",
       "</table>\n",
       "<p>1000 rows × 3 columns</p>\n",
       "</div>"
      ],
      "text/plain": [
       "                                              question answer  \\\n",
       "0     when did the british first land in north america   None   \n",
       "1            when did the 1st world war officially end   None   \n",
       "2       who's the girl that plays the new wonder woman   None   \n",
       "3                 who is the director of the cia today   None   \n",
       "4              who plays ben in the new fantastic four   None   \n",
       "..                                                 ...    ...   \n",
       "995  who did morgan freeman play in driving miss daisy   None   \n",
       "996         who played mr kidd in diamonds are forever   None   \n",
       "997    when does nathan find out about chuck and blair   None   \n",
       "998      when did the first push to start car come out   None   \n",
       "999  risk for infection related to premature ruptur...   None   \n",
       "\n",
       "                          document_id  \n",
       "0    [11484, 2724, 12022, 570, 10133]  \n",
       "1      [10722, 9731, 7508, 646, 7880]  \n",
       "2    [7556, 10786, 5970, 10380, 8669]  \n",
       "3    [11721, 9619, 4715, 12126, 4733]  \n",
       "4     [9192, 8635, 5557, 10620, 9792]  \n",
       "..                                ...  \n",
       "995     [7099, 2987, 7797, 785, 7590]  \n",
       "996  [7690, 10227, 11126, 5356, 1051]  \n",
       "997   [2452, 3759, 4191, 6249, 10832]  \n",
       "998    [8331, 3525, 6907, 3617, 3279]  \n",
       "999    [7298, 6210, 9987, 5212, 2801]  \n",
       "\n",
       "[1000 rows x 3 columns]"
      ]
     },
     "execution_count": 43,
     "metadata": {},
     "output_type": "execute_result"
    }
   ],
   "source": [
    "# replace the attribute of 'document_id' in valid_rank_data\n",
    "# choose the first 5 documents_id\n",
    "valid_rank_data['document_id'] = all_indices\n",
    "valid_rank_data"
   ]
  },
  {
   "cell_type": "code",
   "execution_count": 44,
   "metadata": {},
   "outputs": [
    {
     "data": {
      "text/plain": [
       "(1000, 5)"
      ]
     },
     "execution_count": 44,
     "metadata": {},
     "output_type": "execute_result"
    }
   ],
   "source": [
    "all_indices_np = np.array(all_indices)\n",
    "all_indices_np.shape"
   ]
  },
  {
   "cell_type": "code",
   "execution_count": 45,
   "metadata": {},
   "outputs": [],
   "source": [
    "# save valid_rank_data\n",
    "valid_rank_data.to_json('data_and_code/zqy_data/faiss_results_rerank2.jsonl', orient='records', lines=True)"
   ]
  },
  {
   "cell_type": "code",
   "execution_count": null,
   "metadata": {},
   "outputs": [],
   "source": []
  },
  {
   "cell_type": "markdown",
   "metadata": {},
   "source": [
    "# llm"
   ]
  },
  {
   "cell_type": "code",
   "execution_count": 6,
   "metadata": {},
   "outputs": [],
   "source": [
    "from QA_System.backbone.llm import QwenChatClient\n",
    "import nest_asyncio\n"
   ]
  },
  {
   "cell_type": "code",
   "execution_count": 49,
   "metadata": {},
   "outputs": [
    {
     "data": {
      "text/html": [
       "<div>\n",
       "<style scoped>\n",
       "    .dataframe tbody tr th:only-of-type {\n",
       "        vertical-align: middle;\n",
       "    }\n",
       "\n",
       "    .dataframe tbody tr th {\n",
       "        vertical-align: top;\n",
       "    }\n",
       "\n",
       "    .dataframe thead th {\n",
       "        text-align: right;\n",
       "    }\n",
       "</style>\n",
       "<table border=\"1\" class=\"dataframe\">\n",
       "  <thead>\n",
       "    <tr style=\"text-align: right;\">\n",
       "      <th></th>\n",
       "      <th>question</th>\n",
       "      <th>answer</th>\n",
       "      <th>document_id</th>\n",
       "    </tr>\n",
       "  </thead>\n",
       "  <tbody>\n",
       "    <tr>\n",
       "      <th>0</th>\n",
       "      <td>when did the british first land in north america</td>\n",
       "      <td>NaN</td>\n",
       "      <td>[11484, 2724, 12022, 570, 10133]</td>\n",
       "    </tr>\n",
       "    <tr>\n",
       "      <th>1</th>\n",
       "      <td>when did the 1st world war officially end</td>\n",
       "      <td>NaN</td>\n",
       "      <td>[10722, 9731, 7508, 646, 7880]</td>\n",
       "    </tr>\n",
       "    <tr>\n",
       "      <th>2</th>\n",
       "      <td>who's the girl that plays the new wonder woman</td>\n",
       "      <td>NaN</td>\n",
       "      <td>[7556, 10786, 5970, 10380, 8669]</td>\n",
       "    </tr>\n",
       "    <tr>\n",
       "      <th>3</th>\n",
       "      <td>who is the director of the cia today</td>\n",
       "      <td>NaN</td>\n",
       "      <td>[11721, 9619, 4715, 12126, 4733]</td>\n",
       "    </tr>\n",
       "    <tr>\n",
       "      <th>4</th>\n",
       "      <td>who plays ben in the new fantastic four</td>\n",
       "      <td>NaN</td>\n",
       "      <td>[9192, 8635, 5557, 10620, 9792]</td>\n",
       "    </tr>\n",
       "    <tr>\n",
       "      <th>...</th>\n",
       "      <td>...</td>\n",
       "      <td>...</td>\n",
       "      <td>...</td>\n",
       "    </tr>\n",
       "    <tr>\n",
       "      <th>995</th>\n",
       "      <td>who did morgan freeman play in driving miss daisy</td>\n",
       "      <td>NaN</td>\n",
       "      <td>[7099, 2987, 7797, 785, 7590]</td>\n",
       "    </tr>\n",
       "    <tr>\n",
       "      <th>996</th>\n",
       "      <td>who played mr kidd in diamonds are forever</td>\n",
       "      <td>NaN</td>\n",
       "      <td>[7690, 10227, 11126, 5356, 1051]</td>\n",
       "    </tr>\n",
       "    <tr>\n",
       "      <th>997</th>\n",
       "      <td>when does nathan find out about chuck and blair</td>\n",
       "      <td>NaN</td>\n",
       "      <td>[2452, 3759, 4191, 6249, 10832]</td>\n",
       "    </tr>\n",
       "    <tr>\n",
       "      <th>998</th>\n",
       "      <td>when did the first push to start car come out</td>\n",
       "      <td>NaN</td>\n",
       "      <td>[3525, 8331, 6907, 3617, 3279]</td>\n",
       "    </tr>\n",
       "    <tr>\n",
       "      <th>999</th>\n",
       "      <td>risk for infection related to premature ruptur...</td>\n",
       "      <td>NaN</td>\n",
       "      <td>[7298, 6210, 9987, 5212, 2801]</td>\n",
       "    </tr>\n",
       "  </tbody>\n",
       "</table>\n",
       "<p>1000 rows × 3 columns</p>\n",
       "</div>"
      ],
      "text/plain": [
       "                                              question  answer  \\\n",
       "0     when did the british first land in north america     NaN   \n",
       "1            when did the 1st world war officially end     NaN   \n",
       "2       who's the girl that plays the new wonder woman     NaN   \n",
       "3                 who is the director of the cia today     NaN   \n",
       "4              who plays ben in the new fantastic four     NaN   \n",
       "..                                                 ...     ...   \n",
       "995  who did morgan freeman play in driving miss daisy     NaN   \n",
       "996         who played mr kidd in diamonds are forever     NaN   \n",
       "997    when does nathan find out about chuck and blair     NaN   \n",
       "998      when did the first push to start car come out     NaN   \n",
       "999  risk for infection related to premature ruptur...     NaN   \n",
       "\n",
       "                          document_id  \n",
       "0    [11484, 2724, 12022, 570, 10133]  \n",
       "1      [10722, 9731, 7508, 646, 7880]  \n",
       "2    [7556, 10786, 5970, 10380, 8669]  \n",
       "3    [11721, 9619, 4715, 12126, 4733]  \n",
       "4     [9192, 8635, 5557, 10620, 9792]  \n",
       "..                                ...  \n",
       "995     [7099, 2987, 7797, 785, 7590]  \n",
       "996  [7690, 10227, 11126, 5356, 1051]  \n",
       "997   [2452, 3759, 4191, 6249, 10832]  \n",
       "998    [3525, 8331, 6907, 3617, 3279]  \n",
       "999    [7298, 6210, 9987, 5212, 2801]  \n",
       "\n",
       "[1000 rows x 3 columns]"
      ]
     },
     "execution_count": 49,
     "metadata": {},
     "output_type": "execute_result"
    }
   ],
   "source": [
    "valid_rank_data = pd.read_json('data_and_code/zqy_data/faiss_results_rerank.jsonl', lines=True)\n",
    "valid_rank_data\n"
   ]
  },
  {
   "cell_type": "code",
   "execution_count": 50,
   "metadata": {},
   "outputs": [],
   "source": [
    "def get_answer(client: QwenChatClient, valid_rank_data=valid_rank_data, idx:int = 0):\n",
    "    \"\"\"\n",
    "    get answer from QwenChatClient\n",
    "    \"\"\"\n",
    "    # get the first 5 document id\n",
    "    docid_list = valid_rank_data['document_id']\n",
    "    # get the question\n",
    "    query_list = valid_rank_data['question']\n",
    "    doc_content_list = docid_list.apply(lambda x: idx2content(int(x[idx])))\n",
    "    # transfer to list\n",
    "    doc_content_list = doc_content_list.tolist()\n",
    "    query_list = query_list.tolist()\n",
    "    # combine query and document, format: [query, documents content]\n",
    "    query_context_list = []\n",
    "    for i in range(len(query_list)):\n",
    "        query_context_list.append(\n",
    "            (\n",
    "                query_list[i],\n",
    "                doc_content_list[i]\n",
    "            )\n",
    "        )\n",
    "    # get the answer\n",
    "    results = client.batch_request_async_simple(\n",
    "        query_context_list=query_context_list, \n",
    "        concurrency=5, \n",
    "        # model=\"Qwen/Qwen2.5-7B-Instruct\", \n",
    "        model='Pro/Qwen/Qwen2.5-7B-Instruct',\n",
    "        n = 1)\n",
    "    extracted_answers = client.extract_answer(results)\n",
    "    # extracted_answers format: list[list[str]]\n",
    "    extracted_answers = [x[0] for x in extracted_answers]\n",
    "    return extracted_answers"
   ]
  },
  {
   "cell_type": "code",
   "execution_count": 53,
   "metadata": {},
   "outputs": [],
   "source": [
    "# generate answers\n",
    "import nest_asyncio\n",
    "import time\n",
    "nest_asyncio.apply()\n",
    "\n",
    "api_token = \"sk-tiqxioukbterlpaezfbeezpfkcpqbtaqtknvfjrrkscgtwmg\"\n",
    "client = QwenChatClient(api_token=api_token)\n",
    "\n",
    "\n",
    "def idx_answer(idx, valid_rank_data=valid_rank_data):\n",
    "    all_answers = []\n",
    "    # process 100 samples each time\n",
    "    # 如果超出max_tokens，返回\"None\"\n",
    "    batch_size = 50\n",
    "    for i in range(0, len(valid_rank_data), batch_size):\n",
    "        print(f\"Processing {i} to {i + batch_size}\")\n",
    "        indices = get_answer(client, valid_rank_data[i:i + batch_size], idx=idx)\n",
    "        all_answers.extend(indices)\n",
    "        time.sleep(90)\n",
    "    return all_answers\n"
   ]
  },
  {
   "cell_type": "code",
   "execution_count": null,
   "metadata": {},
   "outputs": [],
   "source": [
    "all_answers0 = idx_answer(0)    "
   ]
  },
  {
   "cell_type": "code",
   "execution_count": 60,
   "metadata": {},
   "outputs": [
    {
     "name": "stdout",
     "output_type": "stream",
     "text": [
      "Processing 0 to 50\n",
      "Extracting answers...\n"
     ]
    },
    {
     "name": "stderr",
     "output_type": "stream",
     "text": [
      "100%|██████████| 50/50 [00:00<00:00, 90006.52it/s]\n"
     ]
    },
    {
     "name": "stdout",
     "output_type": "stream",
     "text": [
      "Processing 50 to 100\n",
      "Failed to request QwenChat API: {\"code\":20015,\"message\":\"max_total_tokens (32906) must be less than or equal to max_seq_len (32768)\",\"data\":null}\n",
      "we will return answer as \"None\"\n",
      "Extracting answers...\n"
     ]
    },
    {
     "name": "stderr",
     "output_type": "stream",
     "text": [
      "100%|██████████| 50/50 [00:00<00:00, 144830.94it/s]\n"
     ]
    },
    {
     "name": "stdout",
     "output_type": "stream",
     "text": [
      "Processing 100 to 150\n",
      "Extracting answers...\n"
     ]
    },
    {
     "name": "stderr",
     "output_type": "stream",
     "text": [
      "100%|██████████| 50/50 [00:00<00:00, 144134.16it/s]\n"
     ]
    },
    {
     "name": "stdout",
     "output_type": "stream",
     "text": [
      "Processing 150 to 200\n",
      "Extracting answers...\n"
     ]
    },
    {
     "name": "stderr",
     "output_type": "stream",
     "text": [
      "100%|██████████| 50/50 [00:00<00:00, 84494.44it/s]\n"
     ]
    },
    {
     "name": "stdout",
     "output_type": "stream",
     "text": [
      "Processing 200 to 250\n",
      "Failed to request QwenChat API: {\"code\":20015,\"message\":\"max_total_tokens (32905) must be less than or equal to max_seq_len (32768)\",\"data\":null}\n",
      "we will return answer as \"None\"\n",
      "Extracting answers...\n"
     ]
    },
    {
     "name": "stderr",
     "output_type": "stream",
     "text": [
      "100%|██████████| 50/50 [00:00<00:00, 142469.57it/s]\n"
     ]
    },
    {
     "name": "stdout",
     "output_type": "stream",
     "text": [
      "Processing 250 to 300\n",
      "Extracting answers...\n"
     ]
    },
    {
     "name": "stderr",
     "output_type": "stream",
     "text": [
      "100%|██████████| 50/50 [00:00<00:00, 96687.51it/s]\n"
     ]
    },
    {
     "name": "stdout",
     "output_type": "stream",
     "text": [
      "Processing 300 to 350\n",
      "Extracting answers...\n"
     ]
    },
    {
     "name": "stderr",
     "output_type": "stream",
     "text": [
      "100%|██████████| 50/50 [00:00<00:00, 103768.04it/s]\n"
     ]
    },
    {
     "name": "stdout",
     "output_type": "stream",
     "text": [
      "Processing 350 to 400\n",
      "Extracting answers...\n"
     ]
    },
    {
     "name": "stderr",
     "output_type": "stream",
     "text": [
      "100%|██████████| 50/50 [00:00<00:00, 225500.22it/s]\n"
     ]
    },
    {
     "name": "stdout",
     "output_type": "stream",
     "text": [
      "Processing 400 to 450\n",
      "Extracting answers...\n"
     ]
    },
    {
     "name": "stderr",
     "output_type": "stream",
     "text": [
      "100%|██████████| 50/50 [00:00<00:00, 167772.16it/s]\n"
     ]
    },
    {
     "name": "stdout",
     "output_type": "stream",
     "text": [
      "Processing 450 to 500\n",
      "Extracting answers...\n"
     ]
    },
    {
     "name": "stderr",
     "output_type": "stream",
     "text": [
      "100%|██████████| 50/50 [00:00<00:00, 150765.78it/s]\n"
     ]
    },
    {
     "name": "stdout",
     "output_type": "stream",
     "text": [
      "Processing 500 to 550\n",
      "Extracting answers...\n"
     ]
    },
    {
     "name": "stderr",
     "output_type": "stream",
     "text": [
      "100%|██████████| 50/50 [00:00<00:00, 120873.31it/s]\n"
     ]
    },
    {
     "name": "stdout",
     "output_type": "stream",
     "text": [
      "Processing 550 to 600\n",
      "Extracting answers...\n"
     ]
    },
    {
     "name": "stderr",
     "output_type": "stream",
     "text": [
      "100%|██████████| 50/50 [00:00<00:00, 149903.65it/s]\n"
     ]
    },
    {
     "name": "stdout",
     "output_type": "stream",
     "text": [
      "Processing 600 to 650\n",
      "Extracting answers...\n"
     ]
    },
    {
     "name": "stderr",
     "output_type": "stream",
     "text": [
      "100%|██████████| 50/50 [00:00<00:00, 118416.26it/s]\n"
     ]
    },
    {
     "name": "stdout",
     "output_type": "stream",
     "text": [
      "Processing 650 to 700\n",
      "Extracting answers...\n"
     ]
    },
    {
     "name": "stderr",
     "output_type": "stream",
     "text": [
      "100%|██████████| 50/50 [00:00<00:00, 76482.57it/s]\n"
     ]
    },
    {
     "name": "stdout",
     "output_type": "stream",
     "text": [
      "Processing 700 to 750\n",
      "Extracting answers...\n"
     ]
    },
    {
     "name": "stderr",
     "output_type": "stream",
     "text": [
      "100%|██████████| 50/50 [00:00<00:00, 102200.39it/s]\n"
     ]
    },
    {
     "name": "stdout",
     "output_type": "stream",
     "text": [
      "Processing 750 to 800\n",
      "Extracting answers...\n"
     ]
    },
    {
     "name": "stderr",
     "output_type": "stream",
     "text": [
      "100%|██████████| 50/50 [00:00<00:00, 218681.13it/s]\n"
     ]
    },
    {
     "name": "stdout",
     "output_type": "stream",
     "text": [
      "Processing 800 to 850\n",
      "Extracting answers...\n"
     ]
    },
    {
     "name": "stderr",
     "output_type": "stream",
     "text": [
      "100%|██████████| 50/50 [00:00<00:00, 130501.06it/s]\n"
     ]
    },
    {
     "name": "stdout",
     "output_type": "stream",
     "text": [
      "Processing 850 to 900\n",
      "Extracting answers...\n"
     ]
    },
    {
     "name": "stderr",
     "output_type": "stream",
     "text": [
      "100%|██████████| 50/50 [00:00<00:00, 93248.20it/s]\n"
     ]
    },
    {
     "name": "stdout",
     "output_type": "stream",
     "text": [
      "Processing 900 to 950\n",
      "Failed to request QwenChat API: {\"code\":20015,\"message\":\"max_total_tokens (32996) must be less than or equal to max_seq_len (32768)\",\"data\":null}\n",
      "we will return answer as \"None\"\n",
      "Extracting answers...\n"
     ]
    },
    {
     "name": "stderr",
     "output_type": "stream",
     "text": [
      "100%|██████████| 50/50 [00:00<00:00, 122140.48it/s]\n"
     ]
    },
    {
     "name": "stdout",
     "output_type": "stream",
     "text": [
      "Processing 950 to 1000\n",
      "Extracting answers...\n"
     ]
    },
    {
     "name": "stderr",
     "output_type": "stream",
     "text": [
      "100%|██████████| 50/50 [00:00<00:00, 153188.60it/s]\n"
     ]
    }
   ],
   "source": [
    "all_answers1 = idx_answer(1)"
   ]
  },
  {
   "cell_type": "code",
   "execution_count": 61,
   "metadata": {},
   "outputs": [
    {
     "name": "stdout",
     "output_type": "stream",
     "text": [
      "Processing 0 to 50\n",
      "Extracting answers...\n"
     ]
    },
    {
     "name": "stderr",
     "output_type": "stream",
     "text": [
      "100%|██████████| 50/50 [00:00<00:00, 107878.19it/s]\n"
     ]
    },
    {
     "name": "stdout",
     "output_type": "stream",
     "text": [
      "Processing 50 to 100\n",
      "Failed to request QwenChat API: {\"code\":20015,\"message\":\"max_total_tokens (32996) must be less than or equal to max_seq_len (32768)\",\"data\":null}\n",
      "we will return answer as \"None\"\n",
      "Failed to request QwenChat API: {\"code\":20015,\"message\":\"max_total_tokens (32905) must be less than or equal to max_seq_len (32768)\",\"data\":null}\n",
      "we will return answer as \"None\"\n",
      "Extracting answers...\n"
     ]
    },
    {
     "name": "stderr",
     "output_type": "stream",
     "text": [
      "100%|██████████| 50/50 [00:00<00:00, 134778.41it/s]\n"
     ]
    },
    {
     "name": "stdout",
     "output_type": "stream",
     "text": [
      "Processing 100 to 150\n",
      "Extracting answers...\n"
     ]
    },
    {
     "name": "stderr",
     "output_type": "stream",
     "text": [
      "100%|██████████| 50/50 [00:00<00:00, 117290.38it/s]\n"
     ]
    },
    {
     "name": "stdout",
     "output_type": "stream",
     "text": [
      "Processing 150 to 200\n",
      "Extracting answers...\n"
     ]
    },
    {
     "name": "stderr",
     "output_type": "stream",
     "text": [
      "100%|██████████| 50/50 [00:00<00:00, 148734.18it/s]\n"
     ]
    },
    {
     "name": "stdout",
     "output_type": "stream",
     "text": [
      "Processing 200 to 250\n",
      "Failed to request QwenChat API: {\"code\":20015,\"message\":\"max_total_tokens (32995) must be less than or equal to max_seq_len (32768)\",\"data\":null}\n",
      "we will return answer as \"None\"\n",
      "Extracting answers...\n"
     ]
    },
    {
     "name": "stderr",
     "output_type": "stream",
     "text": [
      "100%|██████████| 50/50 [00:00<00:00, 93539.34it/s]\n"
     ]
    },
    {
     "name": "stdout",
     "output_type": "stream",
     "text": [
      "Processing 250 to 300\n",
      "Extracting answers...\n"
     ]
    },
    {
     "name": "stderr",
     "output_type": "stream",
     "text": [
      "100%|██████████| 50/50 [00:00<00:00, 114037.63it/s]\n"
     ]
    },
    {
     "name": "stdout",
     "output_type": "stream",
     "text": [
      "Processing 300 to 350\n",
      "Extracting answers...\n"
     ]
    },
    {
     "name": "stderr",
     "output_type": "stream",
     "text": [
      "100%|██████████| 50/50 [00:00<00:00, 120734.14it/s]\n"
     ]
    },
    {
     "name": "stdout",
     "output_type": "stream",
     "text": [
      "Processing 350 to 400\n",
      "Extracting answers...\n"
     ]
    },
    {
     "name": "stderr",
     "output_type": "stream",
     "text": [
      "100%|██████████| 50/50 [00:00<00:00, 154771.37it/s]\n"
     ]
    },
    {
     "name": "stdout",
     "output_type": "stream",
     "text": [
      "Processing 400 to 450\n",
      "Extracting answers...\n"
     ]
    },
    {
     "name": "stderr",
     "output_type": "stream",
     "text": [
      "100%|██████████| 50/50 [00:00<00:00, 112810.76it/s]\n"
     ]
    },
    {
     "name": "stdout",
     "output_type": "stream",
     "text": [
      "Processing 450 to 500\n",
      "Extracting answers...\n"
     ]
    },
    {
     "name": "stderr",
     "output_type": "stream",
     "text": [
      "100%|██████████| 50/50 [00:00<00:00, 82338.12it/s]\n"
     ]
    },
    {
     "name": "stdout",
     "output_type": "stream",
     "text": [
      "Processing 500 to 550\n",
      "Extracting answers...\n"
     ]
    },
    {
     "name": "stderr",
     "output_type": "stream",
     "text": [
      "100%|██████████| 50/50 [00:00<00:00, 123507.18it/s]\n"
     ]
    },
    {
     "name": "stdout",
     "output_type": "stream",
     "text": [
      "Processing 550 to 600\n",
      "Extracting answers...\n"
     ]
    },
    {
     "name": "stderr",
     "output_type": "stream",
     "text": [
      "100%|██████████| 50/50 [00:00<00:00, 120873.31it/s]\n"
     ]
    },
    {
     "name": "stdout",
     "output_type": "stream",
     "text": [
      "Processing 600 to 650\n",
      "Extracting answers...\n"
     ]
    },
    {
     "name": "stderr",
     "output_type": "stream",
     "text": [
      "100%|██████████| 50/50 [00:00<00:00, 167504.15it/s]\n"
     ]
    },
    {
     "name": "stdout",
     "output_type": "stream",
     "text": [
      "Processing 650 to 700\n",
      "Extracting answers...\n"
     ]
    },
    {
     "name": "stderr",
     "output_type": "stream",
     "text": [
      "100%|██████████| 50/50 [00:00<00:00, 113176.04it/s]\n"
     ]
    },
    {
     "name": "stdout",
     "output_type": "stream",
     "text": [
      "Processing 700 to 750\n",
      "Extracting answers...\n"
     ]
    },
    {
     "name": "stderr",
     "output_type": "stream",
     "text": [
      "100%|██████████| 50/50 [00:00<00:00, 119632.17it/s]\n"
     ]
    },
    {
     "name": "stdout",
     "output_type": "stream",
     "text": [
      "Processing 750 to 800\n",
      "Failed to request QwenChat API: {\"code\":20015,\"message\":\"max_total_tokens (32906) must be less than or equal to max_seq_len (32768)\",\"data\":null}\n",
      "we will return answer as \"None\"\n",
      "Extracting answers...\n"
     ]
    },
    {
     "name": "stderr",
     "output_type": "stream",
     "text": [
      "100%|██████████| 50/50 [00:00<00:00, 86267.05it/s]\n"
     ]
    },
    {
     "name": "stdout",
     "output_type": "stream",
     "text": [
      "Processing 800 to 850\n",
      "Extracting answers...\n"
     ]
    },
    {
     "name": "stderr",
     "output_type": "stream",
     "text": [
      "100%|██████████| 50/50 [00:00<00:00, 82241.25it/s]\n"
     ]
    },
    {
     "name": "stdout",
     "output_type": "stream",
     "text": [
      "Processing 850 to 900\n",
      "Extracting answers...\n"
     ]
    },
    {
     "name": "stderr",
     "output_type": "stream",
     "text": [
      "100%|██████████| 50/50 [00:00<00:00, 156737.82it/s]\n"
     ]
    },
    {
     "name": "stdout",
     "output_type": "stream",
     "text": [
      "Processing 900 to 950\n",
      "Extracting answers...\n"
     ]
    },
    {
     "name": "stderr",
     "output_type": "stream",
     "text": [
      "100%|██████████| 50/50 [00:00<00:00, 135387.48it/s]\n"
     ]
    },
    {
     "name": "stdout",
     "output_type": "stream",
     "text": [
      "Processing 950 to 1000\n",
      "Extracting answers...\n"
     ]
    },
    {
     "name": "stderr",
     "output_type": "stream",
     "text": [
      "100%|██████████| 50/50 [00:00<00:00, 108268.04it/s]\n"
     ]
    }
   ],
   "source": [
    "all_answers2 = idx_answer(2)"
   ]
  },
  {
   "cell_type": "code",
   "execution_count": 66,
   "metadata": {},
   "outputs": [
    {
     "name": "stdout",
     "output_type": "stream",
     "text": [
      "Processing 0 to 50\n",
      "Extracting answers...\n"
     ]
    },
    {
     "name": "stderr",
     "output_type": "stream",
     "text": [
      "100%|██████████| 50/50 [00:00<00:00, 119632.17it/s]\n"
     ]
    },
    {
     "name": "stdout",
     "output_type": "stream",
     "text": [
      "Processing 50 to 100\n",
      "Extracting answers...\n"
     ]
    },
    {
     "name": "stderr",
     "output_type": "stream",
     "text": [
      "100%|██████████| 50/50 [00:00<00:00, 104962.56it/s]\n"
     ]
    },
    {
     "name": "stdout",
     "output_type": "stream",
     "text": [
      "Processing 100 to 150\n",
      "Extracting answers...\n"
     ]
    },
    {
     "name": "stderr",
     "output_type": "stream",
     "text": [
      "100%|██████████| 50/50 [00:00<00:00, 115545.56it/s]\n"
     ]
    },
    {
     "name": "stdout",
     "output_type": "stream",
     "text": [
      "Processing 150 to 200\n",
      "Extracting answers...\n"
     ]
    },
    {
     "name": "stderr",
     "output_type": "stream",
     "text": [
      "100%|██████████| 50/50 [00:00<00:00, 115164.85it/s]\n"
     ]
    },
    {
     "name": "stdout",
     "output_type": "stream",
     "text": [
      "Processing 200 to 250\n",
      "Extracting answers...\n"
     ]
    },
    {
     "name": "stderr",
     "output_type": "stream",
     "text": [
      "100%|██████████| 50/50 [00:00<00:00, 108773.44it/s]\n"
     ]
    },
    {
     "name": "stdout",
     "output_type": "stream",
     "text": [
      "Processing 250 to 300\n",
      "Extracting answers...\n"
     ]
    },
    {
     "name": "stderr",
     "output_type": "stream",
     "text": [
      "100%|██████████| 50/50 [00:00<00:00, 104648.30it/s]\n"
     ]
    },
    {
     "name": "stdout",
     "output_type": "stream",
     "text": [
      "Processing 300 to 350\n",
      "Failed to request QwenChat API: {\"code\":20015,\"message\":\"max_total_tokens (32996) must be less than or equal to max_seq_len (32768)\",\"data\":null}\n",
      "we will return answer as \"None\"\n",
      "Extracting answers...\n"
     ]
    },
    {
     "name": "stderr",
     "output_type": "stream",
     "text": [
      "100%|██████████| 50/50 [00:00<00:00, 77214.73it/s]\n"
     ]
    },
    {
     "name": "stdout",
     "output_type": "stream",
     "text": [
      "Processing 350 to 400\n",
      "Extracting answers...\n"
     ]
    },
    {
     "name": "stderr",
     "output_type": "stream",
     "text": [
      "100%|██████████| 50/50 [00:00<00:00, 142276.26it/s]\n"
     ]
    },
    {
     "name": "stdout",
     "output_type": "stream",
     "text": [
      "Processing 400 to 450\n",
      "Failed to request QwenChat API: {\"code\":50508,\"message\":\"System is too busy now. Please try again later.\",\"data\":null}\n",
      "we will return answer as \"None\"\n",
      "Failed to request QwenChat API: {\"code\":50508,\"message\":\"System is too busy now. Please try again later.\",\"data\":null}\n",
      "we will return answer as \"None\"\n",
      "Error occurred: \n",
      "Extracting answers...\n"
     ]
    },
    {
     "name": "stderr",
     "output_type": "stream",
     "text": [
      "100%|██████████| 50/50 [00:00<00:00, 109056.27it/s]\n"
     ]
    },
    {
     "name": "stdout",
     "output_type": "stream",
     "text": [
      "Processing 450 to 500\n",
      "Extracting answers...\n"
     ]
    },
    {
     "name": "stderr",
     "output_type": "stream",
     "text": [
      "100%|██████████| 50/50 [00:00<00:00, 132731.14it/s]\n"
     ]
    },
    {
     "name": "stdout",
     "output_type": "stream",
     "text": [
      "Processing 500 to 550\n",
      "Extracting answers...\n"
     ]
    },
    {
     "name": "stderr",
     "output_type": "stream",
     "text": [
      "100%|██████████| 50/50 [00:00<00:00, 138517.31it/s]\n"
     ]
    },
    {
     "name": "stdout",
     "output_type": "stream",
     "text": [
      "Processing 550 to 600\n",
      "Extracting answers...\n"
     ]
    },
    {
     "name": "stderr",
     "output_type": "stream",
     "text": [
      "100%|██████████| 50/50 [00:00<00:00, 130015.62it/s]\n"
     ]
    },
    {
     "name": "stdout",
     "output_type": "stream",
     "text": [
      "Processing 600 to 650\n",
      "Extracting answers...\n"
     ]
    },
    {
     "name": "stderr",
     "output_type": "stream",
     "text": [
      "100%|██████████| 50/50 [00:00<00:00, 82825.91it/s]\n"
     ]
    },
    {
     "name": "stdout",
     "output_type": "stream",
     "text": [
      "Processing 650 to 700\n",
      "Extracting answers...\n"
     ]
    },
    {
     "name": "stderr",
     "output_type": "stream",
     "text": [
      "100%|██████████| 50/50 [00:00<00:00, 114535.88it/s]\n"
     ]
    },
    {
     "name": "stdout",
     "output_type": "stream",
     "text": [
      "Processing 700 to 750\n",
      "Extracting answers...\n"
     ]
    },
    {
     "name": "stderr",
     "output_type": "stream",
     "text": [
      "100%|██████████| 50/50 [00:00<00:00, 96111.46it/s]\n"
     ]
    },
    {
     "name": "stdout",
     "output_type": "stream",
     "text": [
      "Processing 750 to 800\n",
      "Failed to request QwenChat API: {\"code\":50508,\"message\":\"System is too busy now. Please try again later.\",\"data\":null}\n",
      "we will return answer as \"None\"\n",
      "Failed to request QwenChat API: {\"code\":50508,\"message\":\"System is too busy now. Please try again later.\",\"data\":null}\n",
      "we will return answer as \"None\"\n",
      "Failed to request QwenChat API: {\"code\":50508,\"message\":\"System is too busy now. Please try again later.\",\"data\":null}\n",
      "we will return answer as \"None\"\n",
      "Failed to request QwenChat API: {\"code\":50508,\"message\":\"System is too busy now. Please try again later.\",\"data\":null}\n",
      "we will return answer as \"None\"\n",
      "Failed to request QwenChat API: {\"code\":50508,\"message\":\"System is too busy now. Please try again later.\",\"data\":null}\n",
      "we will return answer as \"None\"\n",
      "Failed to request QwenChat API: {\"code\":50508,\"message\":\"System is too busy now. Please try again later.\",\"data\":null}\n",
      "we will return answer as \"None\"\n",
      "Failed to request QwenChat API: {\"code\":50508,\"message\":\"System is too busy now. Please try again later.\",\"data\":null}\n",
      "we will return answer as \"None\"\n",
      "Failed to request QwenChat API: {\"code\":50508,\"message\":\"System is too busy now. Please try again later.\",\"data\":null}\n",
      "we will return answer as \"None\"\n",
      "Failed to request QwenChat API: {\"code\":50508,\"message\":\"System is too busy now. Please try again later.\",\"data\":null}\n",
      "we will return answer as \"None\"\n",
      "Failed to request QwenChat API: {\"code\":50508,\"message\":\"System is too busy now. Please try again later.\",\"data\":null}\n",
      "we will return answer as \"None\"\n",
      "Failed to request QwenChat API: {\"code\":50508,\"message\":\"System is too busy now. Please try again later.\",\"data\":null}\n",
      "we will return answer as \"None\"\n",
      "Failed to request QwenChat API: {\"code\":50508,\"message\":\"System is too busy now. Please try again later.\",\"data\":null}\n",
      "we will return answer as \"None\"\n",
      "Failed to request QwenChat API: {\"code\":50508,\"message\":\"System is too busy now. Please try again later.\",\"data\":null}\n",
      "we will return answer as \"None\"\n",
      "Failed to request QwenChat API: {\"code\":50508,\"message\":\"System is too busy now. Please try again later.\",\"data\":null}\n",
      "we will return answer as \"None\"\n",
      "Failed to request QwenChat API: {\"code\":50508,\"message\":\"System is too busy now. Please try again later.\",\"data\":null}\n",
      "we will return answer as \"None\"\n",
      "Failed to request QwenChat API: {\"code\":50508,\"message\":\"System is too busy now. Please try again later.\",\"data\":null}\n",
      "we will return answer as \"None\"\n",
      "Failed to request QwenChat API: {\"code\":50508,\"message\":\"System is too busy now. Please try again later.\",\"data\":null}\n",
      "we will return answer as \"None\"\n",
      "Failed to request QwenChat API: {\"code\":50508,\"message\":\"System is too busy now. Please try again later.\",\"data\":null}\n",
      "we will return answer as \"None\"\n",
      "Failed to request QwenChat API: {\"code\":50508,\"message\":\"System is too busy now. Please try again later.\",\"data\":null}\n",
      "we will return answer as \"None\"\n",
      "Failed to request QwenChat API: {\"code\":50508,\"message\":\"System is too busy now. Please try again later.\",\"data\":null}\n",
      "we will return answer as \"None\"\n",
      "Failed to request QwenChat API: {\"code\":50508,\"message\":\"System is too busy now. Please try again later.\",\"data\":null}\n",
      "we will return answer as \"None\"\n",
      "Failed to request QwenChat API: {\"code\":50508,\"message\":\"System is too busy now. Please try again later.\",\"data\":null}\n",
      "we will return answer as \"None\"\n",
      "Failed to request QwenChat API: {\"code\":50508,\"message\":\"System is too busy now. Please try again later.\",\"data\":null}\n",
      "we will return answer as \"None\"\n",
      "Failed to request QwenChat API: {\"code\":50508,\"message\":\"System is too busy now. Please try again later.\",\"data\":null}\n",
      "we will return answer as \"None\"\n",
      "Failed to request QwenChat API: {\"code\":50508,\"message\":\"System is too busy now. Please try again later.\",\"data\":null}\n",
      "we will return answer as \"None\"\n",
      "Failed to request QwenChat API: {\"code\":50508,\"message\":\"System is too busy now. Please try again later.\",\"data\":null}\n",
      "we will return answer as \"None\"\n",
      "Failed to request QwenChat API: {\"code\":50508,\"message\":\"System is too busy now. Please try again later.\",\"data\":null}\n",
      "we will return answer as \"None\"\n",
      "Failed to request QwenChat API: {\"code\":50508,\"message\":\"System is too busy now. Please try again later.\",\"data\":null}\n",
      "we will return answer as \"None\"\n",
      "Failed to request QwenChat API: {\"code\":50508,\"message\":\"System is too busy now. Please try again later.\",\"data\":null}\n",
      "we will return answer as \"None\"\n",
      "Failed to request QwenChat API: {\"code\":50508,\"message\":\"System is too busy now. Please try again later.\",\"data\":null}\n",
      "we will return answer as \"None\"\n",
      "Failed to request QwenChat API: {\"code\":50508,\"message\":\"System is too busy now. Please try again later.\",\"data\":null}\n",
      "we will return answer as \"None\"\n",
      "Failed to request QwenChat API: {\"code\":50508,\"message\":\"System is too busy now. Please try again later.\",\"data\":null}\n",
      "we will return answer as \"None\"\n",
      "Failed to request QwenChat API: {\"code\":50508,\"message\":\"System is too busy now. Please try again later.\",\"data\":null}\n",
      "we will return answer as \"None\"\n",
      "Failed to request QwenChat API: {\"code\":50508,\"message\":\"System is too busy now. Please try again later.\",\"data\":null}\n",
      "we will return answer as \"None\"\n",
      "Failed to request QwenChat API: {\"code\":50508,\"message\":\"System is too busy now. Please try again later.\",\"data\":null}\n",
      "we will return answer as \"None\"\n",
      "Failed to request QwenChat API: {\"code\":50508,\"message\":\"System is too busy now. Please try again later.\",\"data\":null}\n",
      "we will return answer as \"None\"\n",
      "Failed to request QwenChat API: {\"code\":50508,\"message\":\"System is too busy now. Please try again later.\",\"data\":null}\n",
      "we will return answer as \"None\"\n",
      "Failed to request QwenChat API: {\"code\":50508,\"message\":\"System is too busy now. Please try again later.\",\"data\":null}\n",
      "we will return answer as \"None\"\n",
      "Failed to request QwenChat API: {\"code\":50508,\"message\":\"System is too busy now. Please try again later.\",\"data\":null}\n",
      "we will return answer as \"None\"\n",
      "Failed to request QwenChat API: {\"code\":50508,\"message\":\"System is too busy now. Please try again later.\",\"data\":null}\n",
      "we will return answer as \"None\"\n",
      "Failed to request QwenChat API: {\"code\":50508,\"message\":\"System is too busy now. Please try again later.\",\"data\":null}\n",
      "we will return answer as \"None\"\n",
      "Failed to request QwenChat API: {\"code\":50508,\"message\":\"System is too busy now. Please try again later.\",\"data\":null}\n",
      "we will return answer as \"None\"\n",
      "Failed to request QwenChat API: {\"code\":50508,\"message\":\"System is too busy now. Please try again later.\",\"data\":null}\n",
      "we will return answer as \"None\"\n",
      "Failed to request QwenChat API: {\"code\":50508,\"message\":\"System is too busy now. Please try again later.\",\"data\":null}\n",
      "we will return answer as \"None\"\n",
      "Failed to request QwenChat API: {\"code\":50508,\"message\":\"System is too busy now. Please try again later.\",\"data\":null}\n",
      "we will return answer as \"None\"\n",
      "Failed to request QwenChat API: {\"code\":50508,\"message\":\"System is too busy now. Please try again later.\",\"data\":null}\n",
      "we will return answer as \"None\"\n",
      "Failed to request QwenChat API: {\"code\":50508,\"message\":\"System is too busy now. Please try again later.\",\"data\":null}\n",
      "we will return answer as \"None\"\n",
      "Failed to request QwenChat API: {\"code\":50508,\"message\":\"System is too busy now. Please try again later.\",\"data\":null}\n",
      "we will return answer as \"None\"\n",
      "Failed to request QwenChat API: {\"code\":50508,\"message\":\"System is too busy now. Please try again later.\",\"data\":null}\n",
      "we will return answer as \"None\"\n",
      "Failed to request QwenChat API: {\"code\":50508,\"message\":\"System is too busy now. Please try again later.\",\"data\":null}\n",
      "we will return answer as \"None\"\n",
      "Extracting answers...\n"
     ]
    },
    {
     "name": "stderr",
     "output_type": "stream",
     "text": [
      "100%|██████████| 50/50 [00:00<00:00, 186413.51it/s]\n"
     ]
    },
    {
     "name": "stdout",
     "output_type": "stream",
     "text": [
      "Processing 800 to 850\n",
      "Extracting answers...\n"
     ]
    },
    {
     "name": "stderr",
     "output_type": "stream",
     "text": [
      "100%|██████████| 50/50 [00:00<00:00, 115418.38it/s]\n"
     ]
    },
    {
     "name": "stdout",
     "output_type": "stream",
     "text": [
      "Processing 850 to 900\n",
      "Extracting answers...\n"
     ]
    },
    {
     "name": "stderr",
     "output_type": "stream",
     "text": [
      "100%|██████████| 50/50 [00:00<00:00, 121292.77it/s]\n"
     ]
    },
    {
     "name": "stdout",
     "output_type": "stream",
     "text": [
      "Processing 900 to 950\n",
      "Extracting answers...\n"
     ]
    },
    {
     "name": "stderr",
     "output_type": "stream",
     "text": [
      "100%|██████████| 50/50 [00:00<00:00, 58925.32it/s]\n"
     ]
    },
    {
     "name": "stdout",
     "output_type": "stream",
     "text": [
      "Processing 950 to 1000\n",
      "Extracting answers...\n"
     ]
    },
    {
     "name": "stderr",
     "output_type": "stream",
     "text": [
      "100%|██████████| 50/50 [00:00<00:00, 82956.96it/s]\n"
     ]
    }
   ],
   "source": [
    "all_answers3 = idx_answer(3)"
   ]
  },
  {
   "cell_type": "code",
   "execution_count": null,
   "metadata": {},
   "outputs": [],
   "source": [
    "all_answers4 = idx_answer(4)"
   ]
  },
  {
   "cell_type": "code",
   "execution_count": null,
   "metadata": {},
   "outputs": [],
   "source": [
    "# # choose idx=0, idx=1, idx=2, idx=3, idx=4\n",
    "# # we will get 5 answers, we check the answer in order\n",
    "# # if answer == \"None\" or \"\" or \"wrong\" or \"none\", we will select the next answer\n",
    "# # if all answers are not satisfied, we will select the first answer\n",
    "# all_idx_answers = []\n",
    "# for idx in range(5):\n",
    "#     print(f\"Processing {idx}\")\n",
    "#     all_answers = idx_answer(idx, valid_rank_data=valid_rank_data)\n",
    "#     all_idx_answers.append(all_answers)"
   ]
  },
  {
   "cell_type": "code",
   "execution_count": 76,
   "metadata": {},
   "outputs": [],
   "source": [
    "# check the answer\n",
    "# all_idx_answers = ???\n",
    "final_answers = []\n",
    "all_idx_answers = [all_answers0, all_answers1, all_answers2, all_answers3]\n",
    "for j in range(len(all_idx_answers[0])):\n",
    "    tag = False\n",
    "    for i in range(len(all_idx_answers)):\n",
    "        if all_idx_answers[i][j] == \"None\" or all_idx_answers[i][j] == \"\" or all_idx_answers[i][j] == \"wrong\" or all_idx_answers[i][j] == \"none\":\n",
    "            continue\n",
    "        else:\n",
    "            final_answers.append(all_idx_answers[i][j])\n",
    "            tag = True\n",
    "            break\n",
    "    if tag is False:\n",
    "        final_answers.append(all_idx_answers[0][j])\n"
   ]
  },
  {
   "cell_type": "code",
   "execution_count": 77,
   "metadata": {},
   "outputs": [
    {
     "data": {
      "text/plain": [
       "(1000,)"
      ]
     },
     "execution_count": 77,
     "metadata": {},
     "output_type": "execute_result"
    }
   ],
   "source": [
    "final_answers_np = np.array(final_answers)\n",
    "final_answers_np.shape"
   ]
  },
  {
   "cell_type": "code",
   "execution_count": 78,
   "metadata": {},
   "outputs": [],
   "source": [
    "# replace the attribute of 'answer' in valid_rank_data\n",
    "valid_rank_data['answer'] = final_answers"
   ]
  },
  {
   "cell_type": "code",
   "execution_count": 79,
   "metadata": {},
   "outputs": [],
   "source": [
    "# save valid_rank_data\n",
    "valid_rank_data.to_json('data_and_code/zqy_data/faiss_results_rerank3.jsonl', orient='records', lines=True)"
   ]
  },
  {
   "cell_type": "code",
   "execution_count": null,
   "metadata": {},
   "outputs": [],
   "source": [
    "# client = QwenChatClient(api_token=api_token)\n",
    "# query_context_list = [(\"What is the best Chinese large model?\", \n",
    "#                         \"The Chinese large model industry is growing rapidly and has attracted a lot of attention. The industry is expected to face both opportunities and challenges in the coming years. The best model is Qwen.\"),\n",
    "#                         (\"What is the best Chinese large model?\",\n",
    "#                         \"The Chinese large model industry is growing rapidly and has attracted a lot of attention. The industry is expected to face both opportunities and challenges in the coming years. The best model is deepseek.\"),\n",
    "#                         (\"What is the best Chinese large model?\",\n",
    "#                             \"The Chinese large model industry is growing rapidly and has attracted a lot of attention. The industry is expected to face both opportunities and challenges in the coming years. The best model is hunyuan.\"),\n",
    "#                         ]\n",
    "# results = client.batch_request_async_simple(\n",
    "#     query_context_list=query_context_list, \n",
    "#     concurrency=5, model=\"Qwen/Qwen2.5-7B-Instruct\", \n",
    "#     n = 3)\n",
    "# extracted_answers = client.extract_answer(results)"
   ]
  }
 ],
 "metadata": {
  "kernelspec": {
   "display_name": "venv",
   "language": "python",
   "name": "python3"
  },
  "language_info": {
   "codemirror_mode": {
    "name": "ipython",
    "version": 3
   },
   "file_extension": ".py",
   "mimetype": "text/x-python",
   "name": "python",
   "nbconvert_exporter": "python",
   "pygments_lexer": "ipython3",
   "version": "3.10.12"
  }
 },
 "nbformat": 4,
 "nbformat_minor": 2
}
