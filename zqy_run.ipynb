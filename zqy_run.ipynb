{
 "cells": [
  {
   "cell_type": "code",
   "execution_count": 1,
   "metadata": {},
   "outputs": [],
   "source": [
    "# import json data to pandas\n",
    "import pandas as pd\n",
    "import json\n",
    "import os\n",
    "import numpy as np\n",
    "import asyncio\n",
    "import aiohttp"
   ]
  },
  {
   "cell_type": "markdown",
   "metadata": {},
   "source": [
    "# rerank"
   ]
  },
  {
   "cell_type": "code",
   "execution_count": 7,
   "metadata": {},
   "outputs": [
    {
     "data": {
      "text/html": [
       "<div>\n",
       "<style scoped>\n",
       "    .dataframe tbody tr th:only-of-type {\n",
       "        vertical-align: middle;\n",
       "    }\n",
       "\n",
       "    .dataframe tbody tr th {\n",
       "        vertical-align: top;\n",
       "    }\n",
       "\n",
       "    .dataframe thead th {\n",
       "        text-align: right;\n",
       "    }\n",
       "</style>\n",
       "<table border=\"1\" class=\"dataframe\">\n",
       "  <thead>\n",
       "    <tr style=\"text-align: right;\">\n",
       "      <th></th>\n",
       "      <th>question</th>\n",
       "      <th>answer</th>\n",
       "      <th>document_id</th>\n",
       "    </tr>\n",
       "  </thead>\n",
       "  <tbody>\n",
       "    <tr>\n",
       "      <th>0</th>\n",
       "      <td>when did the british first land in north america</td>\n",
       "      <td>NaN</td>\n",
       "      <td>[570, 9798, 8471, 1592, 3101]</td>\n",
       "    </tr>\n",
       "    <tr>\n",
       "      <th>1</th>\n",
       "      <td>when did the 1st world war officially end</td>\n",
       "      <td>NaN</td>\n",
       "      <td>[10722, 1820, 4428, 2227, 10565]</td>\n",
       "    </tr>\n",
       "    <tr>\n",
       "      <th>2</th>\n",
       "      <td>who's the girl that plays the new wonder woman</td>\n",
       "      <td>NaN</td>\n",
       "      <td>[7556, 10786, 5970, 10380, 8669]</td>\n",
       "    </tr>\n",
       "    <tr>\n",
       "      <th>3</th>\n",
       "      <td>who is the director of the cia today</td>\n",
       "      <td>NaN</td>\n",
       "      <td>[11721, 7747, 7816, 393, 589]</td>\n",
       "    </tr>\n",
       "    <tr>\n",
       "      <th>4</th>\n",
       "      <td>who plays ben in the new fantastic four</td>\n",
       "      <td>NaN</td>\n",
       "      <td>[9192, 8635, 5557, 2700, 11223]</td>\n",
       "    </tr>\n",
       "    <tr>\n",
       "      <th>...</th>\n",
       "      <td>...</td>\n",
       "      <td>...</td>\n",
       "      <td>...</td>\n",
       "    </tr>\n",
       "    <tr>\n",
       "      <th>995</th>\n",
       "      <td>who did morgan freeman play in driving miss daisy</td>\n",
       "      <td>NaN</td>\n",
       "      <td>[7099, 2987, 7797, 8561, 8372]</td>\n",
       "    </tr>\n",
       "    <tr>\n",
       "      <th>996</th>\n",
       "      <td>who played mr kidd in diamonds are forever</td>\n",
       "      <td>NaN</td>\n",
       "      <td>[7690, 1297, 1587, 11109, 4066]</td>\n",
       "    </tr>\n",
       "    <tr>\n",
       "      <th>997</th>\n",
       "      <td>when does nathan find out about chuck and blair</td>\n",
       "      <td>NaN</td>\n",
       "      <td>[2452, 299, 3759, 3717, 6231]</td>\n",
       "    </tr>\n",
       "    <tr>\n",
       "      <th>998</th>\n",
       "      <td>when did the first push to start car come out</td>\n",
       "      <td>NaN</td>\n",
       "      <td>[8015, 5964, 5035, 5139, 1565]</td>\n",
       "    </tr>\n",
       "    <tr>\n",
       "      <th>999</th>\n",
       "      <td>risk for infection related to premature ruptur...</td>\n",
       "      <td>NaN</td>\n",
       "      <td>[7298, 6210, 7115, 3431, 5678]</td>\n",
       "    </tr>\n",
       "  </tbody>\n",
       "</table>\n",
       "<p>1000 rows × 3 columns</p>\n",
       "</div>"
      ],
      "text/plain": [
       "                                              question  answer  \\\n",
       "0     when did the british first land in north america     NaN   \n",
       "1            when did the 1st world war officially end     NaN   \n",
       "2       who's the girl that plays the new wonder woman     NaN   \n",
       "3                 who is the director of the cia today     NaN   \n",
       "4              who plays ben in the new fantastic four     NaN   \n",
       "..                                                 ...     ...   \n",
       "995  who did morgan freeman play in driving miss daisy     NaN   \n",
       "996         who played mr kidd in diamonds are forever     NaN   \n",
       "997    when does nathan find out about chuck and blair     NaN   \n",
       "998      when did the first push to start car come out     NaN   \n",
       "999  risk for infection related to premature ruptur...     NaN   \n",
       "\n",
       "                          document_id  \n",
       "0       [570, 9798, 8471, 1592, 3101]  \n",
       "1    [10722, 1820, 4428, 2227, 10565]  \n",
       "2    [7556, 10786, 5970, 10380, 8669]  \n",
       "3       [11721, 7747, 7816, 393, 589]  \n",
       "4     [9192, 8635, 5557, 2700, 11223]  \n",
       "..                                ...  \n",
       "995    [7099, 2987, 7797, 8561, 8372]  \n",
       "996   [7690, 1297, 1587, 11109, 4066]  \n",
       "997     [2452, 299, 3759, 3717, 6231]  \n",
       "998    [8015, 5964, 5035, 5139, 1565]  \n",
       "999    [7298, 6210, 7115, 3431, 5678]  \n",
       "\n",
       "[1000 rows x 3 columns]"
      ]
     },
     "execution_count": 7,
     "metadata": {},
     "output_type": "execute_result"
    }
   ],
   "source": [
    "valid_rank_data = pd.read_json('data_and_code/ytx_data/validation_prediction_alldochybrid_rerank.jsonl', lines=True)\n",
    "valid_rank_data"
   ]
  },
  {
   "cell_type": "code",
   "execution_count": 8,
   "metadata": {},
   "outputs": [
    {
     "data": {
      "text/html": [
       "<div>\n",
       "<style scoped>\n",
       "    .dataframe tbody tr th:only-of-type {\n",
       "        vertical-align: middle;\n",
       "    }\n",
       "\n",
       "    .dataframe tbody tr th {\n",
       "        vertical-align: top;\n",
       "    }\n",
       "\n",
       "    .dataframe thead th {\n",
       "        text-align: right;\n",
       "    }\n",
       "</style>\n",
       "<table border=\"1\" class=\"dataframe\">\n",
       "  <thead>\n",
       "    <tr style=\"text-align: right;\">\n",
       "      <th></th>\n",
       "      <th>doc_id</th>\n",
       "      <th>text</th>\n",
       "    </tr>\n",
       "  </thead>\n",
       "  <tbody>\n",
       "    <tr>\n",
       "      <th>0</th>\n",
       "      <td>0</td>\n",
       "      <td>Email marketing - Wikipedia Email marketing Em...</td>\n",
       "    </tr>\n",
       "    <tr>\n",
       "      <th>1</th>\n",
       "      <td>1</td>\n",
       "      <td>The Mother ( How I Met Your Mother ) - wikiped...</td>\n",
       "    </tr>\n",
       "    <tr>\n",
       "      <th>2</th>\n",
       "      <td>2</td>\n",
       "      <td>Human fertilization - wikipedia Human fertiliz...</td>\n",
       "    </tr>\n",
       "    <tr>\n",
       "      <th>3</th>\n",
       "      <td>3</td>\n",
       "      <td>List of National Football League career quarte...</td>\n",
       "    </tr>\n",
       "    <tr>\n",
       "      <th>4</th>\n",
       "      <td>4</td>\n",
       "      <td>Roanoke Colony - wikipedia Roanoke Colony `` L...</td>\n",
       "    </tr>\n",
       "    <tr>\n",
       "      <th>...</th>\n",
       "      <td>...</td>\n",
       "      <td>...</td>\n",
       "    </tr>\n",
       "    <tr>\n",
       "      <th>12133</th>\n",
       "      <td>12133</td>\n",
       "      <td>Jeepers Creepers ( 2001 film ) - wikipedia Jee...</td>\n",
       "    </tr>\n",
       "    <tr>\n",
       "      <th>12134</th>\n",
       "      <td>12134</td>\n",
       "      <td>Death Wish ( 2018 film ) - wikipedia Death Wis...</td>\n",
       "    </tr>\n",
       "    <tr>\n",
       "      <th>12135</th>\n",
       "      <td>12135</td>\n",
       "      <td>X-Men : Apocalypse - wikipedia X-Men : Apocaly...</td>\n",
       "    </tr>\n",
       "    <tr>\n",
       "      <th>12136</th>\n",
       "      <td>12136</td>\n",
       "      <td>Gulliver 's Travels - wikipedia Gulliver 's Tr...</td>\n",
       "    </tr>\n",
       "    <tr>\n",
       "      <th>12137</th>\n",
       "      <td>12137</td>\n",
       "      <td>Julie , Do Ya Love Me - Wikipedia Julie , Do Y...</td>\n",
       "    </tr>\n",
       "  </tbody>\n",
       "</table>\n",
       "<p>12138 rows × 2 columns</p>\n",
       "</div>"
      ],
      "text/plain": [
       "       doc_id                                               text\n",
       "0           0  Email marketing - Wikipedia Email marketing Em...\n",
       "1           1  The Mother ( How I Met Your Mother ) - wikiped...\n",
       "2           2  Human fertilization - wikipedia Human fertiliz...\n",
       "3           3  List of National Football League career quarte...\n",
       "4           4  Roanoke Colony - wikipedia Roanoke Colony `` L...\n",
       "...       ...                                                ...\n",
       "12133   12133  Jeepers Creepers ( 2001 film ) - wikipedia Jee...\n",
       "12134   12134  Death Wish ( 2018 film ) - wikipedia Death Wis...\n",
       "12135   12135  X-Men : Apocalypse - wikipedia X-Men : Apocaly...\n",
       "12136   12136  Gulliver 's Travels - wikipedia Gulliver 's Tr...\n",
       "12137   12137  Julie , Do Ya Love Me - Wikipedia Julie , Do Y...\n",
       "\n",
       "[12138 rows x 2 columns]"
      ]
     },
     "execution_count": 8,
     "metadata": {},
     "output_type": "execute_result"
    }
   ],
   "source": [
    "document_data = pd.read_json('data_and_code/ytx_data/processed_markdown.jsonl', lines=True)\n",
    "document_plain = pd.read_json('data_and_code/ytx_data/processed_plain.jsonl', lines=True)\n",
    "document_plain"
   ]
  },
  {
   "cell_type": "code",
   "execution_count": 9,
   "metadata": {},
   "outputs": [
    {
     "data": {
      "text/plain": [
       "(25123, 38117)"
      ]
     },
     "execution_count": 9,
     "metadata": {},
     "output_type": "execute_result"
    }
   ],
   "source": [
    "# get max number of tokens in one document\n",
    "max(document_data['text'].apply(lambda x: len(x.split(' ')))), \\\n",
    "    max(document_plain['text'].apply(lambda x: len(x.split(' '))))"
   ]
  },
  {
   "cell_type": "code",
   "execution_count": 10,
   "metadata": {},
   "outputs": [],
   "source": [
    "def idx2content(idx, document_data=document_data):\n",
    "    \"\"\"\n",
    "    get document content by index\n",
    "    \"\"\"\n",
    "    return document_data['text'][idx]"
   ]
  },
  {
   "cell_type": "code",
   "execution_count": 18,
   "metadata": {},
   "outputs": [],
   "source": [
    "# rerank\n",
    "from QA_System.backbone.rerank import ReRanker\n",
    "\n",
    "\n",
    "def rerank_func(valid_rank_data, reranker: ReRanker):\n",
    "    input_top_n = 20\n",
    "    docid_origin_list = valid_rank_data['document_id'].apply(lambda x: x[:input_top_n])\n",
    "    query_list = valid_rank_data['question']\n",
    "    doc_content_origin_list = docid_origin_list.apply(lambda x: [idx2content(int(i)) for i in x])\n",
    "    # transfer to list\n",
    "    doc_content_origin_list = doc_content_origin_list.tolist()\n",
    "    query_list = query_list.tolist()\n",
    "    docid_origin_list = docid_origin_list.tolist()\n",
    "    # combine query and document, format: [query, list of documents content]\n",
    "    query_document_list = []\n",
    "    for i in range(len(query_list)):\n",
    "        query_document_list.append(\n",
    "            [\n",
    "                query_list[i],\n",
    "                doc_content_origin_list[i]\n",
    "            ]\n",
    ")\n",
    "    # rerank\n",
    "    responses = reranker.async_send_requests_simple(\n",
    "        query_document_list, use_progress_bar=False, concurrency=5, top_n = 5, \n",
    "        model = 'Pro/BAAI/bge-reranker-v2-m3',\n",
    "    )\n",
    "    _, indices = reranker.extract_json(responses)\n",
    "    # indices is the relative index of the document in the original list\n",
    "    # transform to the original document id\n",
    "    # docid_origin_list = list[list[int]]\n",
    "    # indices = list[list[int]]\n",
    "    for i in range(len(indices)):\n",
    "        for j in range(len(indices[i])):\n",
    "            indices[i][j] = docid_origin_list[i][indices[i][j]]\n",
    "    return indices"
   ]
  },
  {
   "cell_type": "code",
   "execution_count": null,
   "metadata": {},
   "outputs": [
    {
     "name": "stdout",
     "output_type": "stream",
     "text": [
      "Processing 0 to 100\n",
      "Processing 100 to 200\n",
      "Processing 200 to 300\n",
      "Processing 300 to 400\n",
      "Processing 400 to 500\n",
      "Processing 500 to 600\n",
      "Processing 600 to 700\n",
      "Processing 700 to 800\n",
      "Processing 800 to 900\n",
      "Processing 900 to 1000\n"
     ]
    }
   ],
   "source": [
    "import nest_asyncio\n",
    "import time\n",
    "nest_asyncio.apply()\n",
    "\n",
    "api_key = \"sk-\"\n",
    "reranker = ReRanker(api_token=api_key)\n",
    "all_indices = []\n",
    "# process 100 samples each time\n",
    "batch_size = 100\n",
    "for i in range(0, len(valid_rank_data), batch_size):\n",
    "    print(f\"Processing {i} to {i + batch_size}\")\n",
    "    indices = rerank_func(valid_rank_data[i:i + batch_size], reranker)\n",
    "    all_indices.extend(indices)\n",
    "    time.sleep(60)\n",
    "# indices = rerank_func(valid_rank_data, reranker)"
   ]
  },
  {
   "cell_type": "markdown",
   "metadata": {},
   "source": []
  },
  {
   "cell_type": "code",
   "execution_count": 31,
   "metadata": {},
   "outputs": [],
   "source": [
    "# replace the attribute of 'document_id' in valid_rank_data\n",
    "valid_rank_data['document_id'] = all_indices"
   ]
  },
  {
   "cell_type": "code",
   "execution_count": 30,
   "metadata": {},
   "outputs": [
    {
     "data": {
      "text/plain": [
       "(1000, 5)"
      ]
     },
     "execution_count": 30,
     "metadata": {},
     "output_type": "execute_result"
    }
   ],
   "source": [
    "all_indices_np.shape"
   ]
  },
  {
   "cell_type": "code",
   "execution_count": 33,
   "metadata": {},
   "outputs": [],
   "source": [
    "# save valid_rank_data\n",
    "valid_rank_data.to_json('data_and_code/ytx_data/validation_prediction_alldochybrid_rerank.jsonl', orient='records', lines=True)"
   ]
  },
  {
   "cell_type": "code",
   "execution_count": null,
   "metadata": {},
   "outputs": [],
   "source": []
  },
  {
   "cell_type": "markdown",
   "metadata": {},
   "source": [
    "# llm"
   ]
  },
  {
   "cell_type": "code",
   "execution_count": 2,
   "metadata": {},
   "outputs": [],
   "source": [
    "from QA_System.backbone.llm import QwenChatClient\n",
    "import nest_asyncio\n"
   ]
  },
  {
   "cell_type": "code",
   "execution_count": 3,
   "metadata": {},
   "outputs": [
    {
     "data": {
      "text/html": [
       "<div>\n",
       "<style scoped>\n",
       "    .dataframe tbody tr th:only-of-type {\n",
       "        vertical-align: middle;\n",
       "    }\n",
       "\n",
       "    .dataframe tbody tr th {\n",
       "        vertical-align: top;\n",
       "    }\n",
       "\n",
       "    .dataframe thead th {\n",
       "        text-align: right;\n",
       "    }\n",
       "</style>\n",
       "<table border=\"1\" class=\"dataframe\">\n",
       "  <thead>\n",
       "    <tr style=\"text-align: right;\">\n",
       "      <th></th>\n",
       "      <th>question</th>\n",
       "      <th>answer</th>\n",
       "      <th>document_id</th>\n",
       "    </tr>\n",
       "  </thead>\n",
       "  <tbody>\n",
       "    <tr>\n",
       "      <th>0</th>\n",
       "      <td>when did the british first land in north america</td>\n",
       "      <td>NaN</td>\n",
       "      <td>[570, 9798, 8471, 1592, 3101]</td>\n",
       "    </tr>\n",
       "    <tr>\n",
       "      <th>1</th>\n",
       "      <td>when did the 1st world war officially end</td>\n",
       "      <td>NaN</td>\n",
       "      <td>[10722, 1820, 4428, 2227, 10565]</td>\n",
       "    </tr>\n",
       "    <tr>\n",
       "      <th>2</th>\n",
       "      <td>who's the girl that plays the new wonder woman</td>\n",
       "      <td>NaN</td>\n",
       "      <td>[7556, 10786, 5970, 10380, 8669]</td>\n",
       "    </tr>\n",
       "    <tr>\n",
       "      <th>3</th>\n",
       "      <td>who is the director of the cia today</td>\n",
       "      <td>NaN</td>\n",
       "      <td>[11721, 7747, 7816, 393, 589]</td>\n",
       "    </tr>\n",
       "    <tr>\n",
       "      <th>4</th>\n",
       "      <td>who plays ben in the new fantastic four</td>\n",
       "      <td>NaN</td>\n",
       "      <td>[9192, 8635, 5557, 2700, 11223]</td>\n",
       "    </tr>\n",
       "    <tr>\n",
       "      <th>...</th>\n",
       "      <td>...</td>\n",
       "      <td>...</td>\n",
       "      <td>...</td>\n",
       "    </tr>\n",
       "    <tr>\n",
       "      <th>995</th>\n",
       "      <td>who did morgan freeman play in driving miss daisy</td>\n",
       "      <td>NaN</td>\n",
       "      <td>[7099, 2987, 7797, 8561, 8372]</td>\n",
       "    </tr>\n",
       "    <tr>\n",
       "      <th>996</th>\n",
       "      <td>who played mr kidd in diamonds are forever</td>\n",
       "      <td>NaN</td>\n",
       "      <td>[7690, 1297, 1587, 11109, 4066]</td>\n",
       "    </tr>\n",
       "    <tr>\n",
       "      <th>997</th>\n",
       "      <td>when does nathan find out about chuck and blair</td>\n",
       "      <td>NaN</td>\n",
       "      <td>[2452, 299, 3759, 3717, 6231]</td>\n",
       "    </tr>\n",
       "    <tr>\n",
       "      <th>998</th>\n",
       "      <td>when did the first push to start car come out</td>\n",
       "      <td>NaN</td>\n",
       "      <td>[8015, 5964, 5035, 5139, 1565]</td>\n",
       "    </tr>\n",
       "    <tr>\n",
       "      <th>999</th>\n",
       "      <td>risk for infection related to premature ruptur...</td>\n",
       "      <td>NaN</td>\n",
       "      <td>[7298, 6210, 7115, 3431, 5678]</td>\n",
       "    </tr>\n",
       "  </tbody>\n",
       "</table>\n",
       "<p>1000 rows × 3 columns</p>\n",
       "</div>"
      ],
      "text/plain": [
       "                                              question  answer  \\\n",
       "0     when did the british first land in north america     NaN   \n",
       "1            when did the 1st world war officially end     NaN   \n",
       "2       who's the girl that plays the new wonder woman     NaN   \n",
       "3                 who is the director of the cia today     NaN   \n",
       "4              who plays ben in the new fantastic four     NaN   \n",
       "..                                                 ...     ...   \n",
       "995  who did morgan freeman play in driving miss daisy     NaN   \n",
       "996         who played mr kidd in diamonds are forever     NaN   \n",
       "997    when does nathan find out about chuck and blair     NaN   \n",
       "998      when did the first push to start car come out     NaN   \n",
       "999  risk for infection related to premature ruptur...     NaN   \n",
       "\n",
       "                          document_id  \n",
       "0       [570, 9798, 8471, 1592, 3101]  \n",
       "1    [10722, 1820, 4428, 2227, 10565]  \n",
       "2    [7556, 10786, 5970, 10380, 8669]  \n",
       "3       [11721, 7747, 7816, 393, 589]  \n",
       "4     [9192, 8635, 5557, 2700, 11223]  \n",
       "..                                ...  \n",
       "995    [7099, 2987, 7797, 8561, 8372]  \n",
       "996   [7690, 1297, 1587, 11109, 4066]  \n",
       "997     [2452, 299, 3759, 3717, 6231]  \n",
       "998    [8015, 5964, 5035, 5139, 1565]  \n",
       "999    [7298, 6210, 7115, 3431, 5678]  \n",
       "\n",
       "[1000 rows x 3 columns]"
      ]
     },
     "execution_count": 3,
     "metadata": {},
     "output_type": "execute_result"
    }
   ],
   "source": [
    "valid_rank_data = pd.read_json('data_and_code/ytx_data/validation_prediction_alldochybrid_rerank.jsonl', lines=True)\n",
    "valid_rank_data\n"
   ]
  },
  {
   "cell_type": "code",
   "execution_count": 11,
   "metadata": {},
   "outputs": [],
   "source": [
    "def get_answer(client: QwenChatClient, valid_rank_data=valid_rank_data):\n",
    "    \"\"\"\n",
    "    get answer from QwenChatClient\n",
    "    \"\"\"\n",
    "    # get the first 5 document id\n",
    "    docid_list = valid_rank_data['document_id']\n",
    "    # get the question\n",
    "    query_list = valid_rank_data['question']\n",
    "    doc_content_list = docid_list.apply(lambda x: idx2content(int(x[0])))\n",
    "    # transfer to list\n",
    "    doc_content_list = doc_content_list.tolist()\n",
    "    query_list = query_list.tolist()\n",
    "    # combine query and document, format: [query, documents content]\n",
    "    query_context_list = []\n",
    "    for i in range(len(query_list)):\n",
    "        query_context_list.append(\n",
    "            (\n",
    "                query_list[i],\n",
    "                doc_content_list[i]\n",
    "            )\n",
    "        )\n",
    "    # get the answer\n",
    "    results = client.batch_request_async_simple(\n",
    "        query_context_list=query_context_list, \n",
    "        concurrency=5, \n",
    "        # model=\"Qwen/Qwen2.5-7B-Instruct\", \n",
    "        model='Pro/Qwen/Qwen2.5-7B-Instruct',\n",
    "        n = 1)\n",
    "    extracted_answers = client.extract_answer(results)\n",
    "    # extracted_answers format: list[list[str]]\n",
    "    extracted_answers = [x[0] for x in extracted_answers]\n",
    "    return extracted_answers"
   ]
  },
  {
   "cell_type": "code",
   "execution_count": null,
   "metadata": {},
   "outputs": [
    {
     "name": "stdout",
     "output_type": "stream",
     "text": [
      "Processing 0 to 100\n",
      "Extracting answers...\n"
     ]
    },
    {
     "name": "stderr",
     "output_type": "stream",
     "text": [
      "100%|██████████| 100/100 [00:00<00:00, 72944.42it/s]\n"
     ]
    },
    {
     "name": "stdout",
     "output_type": "stream",
     "text": [
      "Processing 100 to 200\n",
      "Failed to request QwenChat API: {\"code\":20015,\"message\":\"max_total_tokens (32831) must be less than or equal to max_seq_len (32768)\",\"data\":null}\n",
      "we will return answer as \"None\"\n",
      "Extracting answers...\n"
     ]
    },
    {
     "name": "stderr",
     "output_type": "stream",
     "text": [
      "100%|██████████| 100/100 [00:00<00:00, 214104.34it/s]\n"
     ]
    },
    {
     "name": "stdout",
     "output_type": "stream",
     "text": [
      "Processing 200 to 300\n",
      "Extracting answers...\n"
     ]
    },
    {
     "name": "stderr",
     "output_type": "stream",
     "text": [
      "100%|██████████| 100/100 [00:00<00:00, 194993.21it/s]\n"
     ]
    },
    {
     "name": "stdout",
     "output_type": "stream",
     "text": [
      "Processing 300 to 400\n",
      "Extracting answers...\n"
     ]
    },
    {
     "name": "stderr",
     "output_type": "stream",
     "text": [
      "100%|██████████| 100/100 [00:00<00:00, 110901.75it/s]\n"
     ]
    },
    {
     "name": "stdout",
     "output_type": "stream",
     "text": [
      "Processing 400 to 500\n",
      "Extracting answers...\n"
     ]
    },
    {
     "name": "stderr",
     "output_type": "stream",
     "text": [
      "100%|██████████| 100/100 [00:00<00:00, 163904.03it/s]\n"
     ]
    },
    {
     "name": "stdout",
     "output_type": "stream",
     "text": [
      "Processing 500 to 600\n",
      "Extracting answers...\n"
     ]
    },
    {
     "name": "stderr",
     "output_type": "stream",
     "text": [
      "100%|██████████| 100/100 [00:00<00:00, 179167.19it/s]\n"
     ]
    },
    {
     "name": "stdout",
     "output_type": "stream",
     "text": [
      "Processing 600 to 700\n",
      "Extracting answers...\n"
     ]
    },
    {
     "name": "stderr",
     "output_type": "stream",
     "text": [
      "100%|██████████| 100/100 [00:00<00:00, 143248.09it/s]\n"
     ]
    },
    {
     "name": "stdout",
     "output_type": "stream",
     "text": [
      "Processing 700 to 800\n",
      "Extracting answers...\n"
     ]
    },
    {
     "name": "stderr",
     "output_type": "stream",
     "text": [
      "100%|██████████| 100/100 [00:00<00:00, 147220.22it/s]\n"
     ]
    },
    {
     "name": "stdout",
     "output_type": "stream",
     "text": [
      "Processing 800 to 900\n",
      "Extracting answers...\n"
     ]
    },
    {
     "name": "stderr",
     "output_type": "stream",
     "text": [
      "100%|██████████| 100/100 [00:00<00:00, 170154.32it/s]\n"
     ]
    },
    {
     "name": "stdout",
     "output_type": "stream",
     "text": [
      "Processing 900 to 1000\n",
      "Failed to request QwenChat API: {\"code\":50508,\"message\":\"System is too busy now. Please try again later.\",\"data\":null}\n",
      "we will return answer as \"None\"\n",
      "Failed to request QwenChat API: {\"code\":50508,\"message\":\"System is too busy now. Please try again later.\",\"data\":null}\n",
      "we will return answer as \"None\"\n",
      "Failed to request QwenChat API: {\"code\":50508,\"message\":\"System is too busy now. Please try again later.\",\"data\":null}\n",
      "we will return answer as \"None\"\n",
      "Failed to request QwenChat API: {\"code\":50508,\"message\":\"System is too busy now. Please try again later.\",\"data\":null}\n",
      "we will return answer as \"None\"\n",
      "Failed to request QwenChat API: {\"code\":50508,\"message\":\"System is too busy now. Please try again later.\",\"data\":null}\n",
      "we will return answer as \"None\"\n",
      "Failed to request QwenChat API: {\"code\":50508,\"message\":\"System is too busy now. Please try again later.\",\"data\":null}\n",
      "we will return answer as \"None\"\n",
      "Failed to request QwenChat API: {\"code\":50508,\"message\":\"System is too busy now. Please try again later.\",\"data\":null}\n",
      "we will return answer as \"None\"\n",
      "Failed to request QwenChat API: {\"code\":50509,\"message\":\"Model service timeout. Please try again later.\",\"data\":null}\n",
      "we will return answer as \"None\"\n",
      "Failed to request QwenChat API: {\"code\":50509,\"message\":\"Model service timeout. Please try again later.\",\"data\":null}\n",
      "we will return answer as \"None\"\n",
      "Failed to request QwenChat API: {\"code\":50509,\"message\":\"Model service timeout. Please try again later.\",\"data\":null}\n",
      "we will return answer as \"None\"\n",
      "Extracting answers...\n"
     ]
    },
    {
     "name": "stderr",
     "output_type": "stream",
     "text": [
      "100%|██████████| 100/100 [00:00<00:00, 228572.43it/s]\n"
     ]
    }
   ],
   "source": [
    "# generate answers\n",
    "import nest_asyncio\n",
    "import time\n",
    "nest_asyncio.apply()\n",
    "\n",
    "api_token = \"sk-\"\n",
    "client = QwenChatClient(api_token=api_token)\n",
    "# answers = get_answer(client, valid_rank_data=valid_rank_data[2:10])\n",
    "\n",
    "all_answers = []\n",
    "# process 100 samples each time\n",
    "# 如果超出max_tokens，返回\"None\"\n",
    "batch_size = 100\n",
    "for i in range(0, len(valid_rank_data), batch_size):\n",
    "    print(f\"Processing {i} to {i + batch_size}\")\n",
    "    indices = get_answer(client, valid_rank_data[i:i + batch_size])\n",
    "    all_answers.extend(indices)\n",
    "    time.sleep(30)\n"
   ]
  },
  {
   "cell_type": "code",
   "execution_count": 13,
   "metadata": {},
   "outputs": [
    {
     "data": {
      "text/plain": [
       "(1000,)"
      ]
     },
     "execution_count": 13,
     "metadata": {},
     "output_type": "execute_result"
    }
   ],
   "source": [
    "all_answers_np = np.array(all_answers)\n",
    "all_answers_np.shape"
   ]
  },
  {
   "cell_type": "code",
   "execution_count": 14,
   "metadata": {},
   "outputs": [],
   "source": [
    "# replace the attribute of 'answer' in valid_rank_data\n",
    "valid_rank_data['answer'] = all_answers"
   ]
  },
  {
   "cell_type": "code",
   "execution_count": 16,
   "metadata": {},
   "outputs": [],
   "source": [
    "# save valid_rank_data\n",
    "valid_rank_data.to_json('data_and_code/ytx_data/validation_prediction_alldochybrid_rerank.jsonl', orient='records', lines=True)"
   ]
  },
  {
   "cell_type": "code",
   "execution_count": null,
   "metadata": {},
   "outputs": [],
   "source": [
    "# client = QwenChatClient(api_token=api_token)\n",
    "# query_context_list = [(\"What is the best Chinese large model?\", \n",
    "#                         \"The Chinese large model industry is growing rapidly and has attracted a lot of attention. The industry is expected to face both opportunities and challenges in the coming years. The best model is Qwen.\"),\n",
    "#                         (\"What is the best Chinese large model?\",\n",
    "#                         \"The Chinese large model industry is growing rapidly and has attracted a lot of attention. The industry is expected to face both opportunities and challenges in the coming years. The best model is deepseek.\"),\n",
    "#                         (\"What is the best Chinese large model?\",\n",
    "#                             \"The Chinese large model industry is growing rapidly and has attracted a lot of attention. The industry is expected to face both opportunities and challenges in the coming years. The best model is hunyuan.\"),\n",
    "#                         ]\n",
    "# results = client.batch_request_async_simple(\n",
    "#     query_context_list=query_context_list, \n",
    "#     concurrency=5, model=\"Qwen/Qwen2.5-7B-Instruct\", \n",
    "#     n = 3)\n",
    "# extracted_answers = client.extract_answer(results)"
   ]
  }
 ],
 "metadata": {
  "kernelspec": {
   "display_name": "venv",
   "language": "python",
   "name": "python3"
  },
  "language_info": {
   "codemirror_mode": {
    "name": "ipython",
    "version": 3
   },
   "file_extension": ".py",
   "mimetype": "text/x-python",
   "name": "python",
   "nbconvert_exporter": "python",
   "pygments_lexer": "ipython3",
   "version": "3.10.12"
  }
 },
 "nbformat": 4,
 "nbformat_minor": 2
}
